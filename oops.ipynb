{
 "cells": [
  {
   "cell_type": "code",
   "execution_count": 1,
   "id": "608f8ba7",
   "metadata": {},
   "outputs": [
    {
     "data": {
      "text/plain": [
       "'Class\\nObject\\nMethod\\nInheritance\\nPolymorphism\\nData Abstraction\\nEncapsulation'"
      ]
     },
     "execution_count": 1,
     "metadata": {},
     "output_type": "execute_result"
    }
   ],
   "source": [
    "\"\"\"Class\n",
    "Object\n",
    "Method\n",
    "Inheritance\n",
    "Polymorphism\n",
    "Data Abstraction\n",
    "Encapsulatin\"\"\""
   ]
  },
  {
   "cell_type": "code",
   "execution_count": 7,
   "id": "4ddd0c89",
   "metadata": {},
   "outputs": [
    {
     "name": "stdout",
     "output_type": "stream",
     "text": [
      "the student information is Vikram Patel 7 th 12\n",
      "Python built in class method :getattr(obj,name,default) setattr(obj, name,value) delattr(obj, name) \thasattr(obj, name)\n"
     ]
    }
   ],
   "source": [
    "#just playing with oops main concept\n",
    "# define class\n",
    "class Student:\n",
    "#     constructor function\n",
    "    def __init__(self,name,class_name,role_no):\n",
    "        self.name=name\n",
    "        self.class_name=class_name\n",
    "        self.role_no=role_no\n",
    "#         get data function to print the data\n",
    "    def get_data(self):\n",
    "        print(\"the student information is\",self.name,self.class_name,self.role_no)\n",
    "        \n",
    "# createing object\n",
    "s1=Student(\"Vikram Patel\", \"7 th\", 12)\n",
    "# function calling\n",
    "s1.get_data()\n",
    "\n",
    "# python built in class function\n",
    "print(\"Python built in class method :getattr(obj,name,default)\",\"setattr(obj, name,value)\",\"delattr(obj, name)\",\"\thasattr(obj, name)\")\n",
    "        \n",
    "        "
   ]
  },
  {
   "cell_type": "code",
   "execution_count": 10,
   "id": "1519b54d",
   "metadata": {},
   "outputs": [
    {
     "name": "stdout",
     "output_type": "stream",
     "text": [
      "dog barking\n",
      "Animal Speaking\n",
      "Eating bread...\n"
     ]
    }
   ],
   "source": [
    "#inheritance\n",
    "## multileval inheritance\n",
    "\n",
    "class Animal:  \n",
    "    def speak(self):  \n",
    "        print(\"Animal Speaking\")  \n",
    "#The child class Dog inherits the base class Animal  \n",
    "class Dog(Animal):  \n",
    "    def bark(self):  \n",
    "        print(\"dog barking\")  \n",
    "#The child class Dogchild inherits another child class Dog  \n",
    "class DogChild(Dog):  \n",
    "    def eat(self):  \n",
    "        print(\"Eating bread...\")  \n",
    "d = DogChild()  \n",
    "d.bark()  \n",
    "d.speak()  \n",
    "d.eat() \n",
    "        \n",
    "    "
   ]
  },
  {
   "cell_type": "code",
   "execution_count": 5,
   "id": "bf1c07e4",
   "metadata": {},
   "outputs": [
    {
     "name": "stdout",
     "output_type": "stream",
     "text": [
      " I am class 4nd\n",
      " I am class 2nd\n",
      "I am class 3\n",
      " I am class 1st\n"
     ]
    }
   ],
   "source": [
    "# multiple inheritance\n",
    "class Class1:\n",
    "    def m(self):\n",
    "        print(\" I am class 1st\")\n",
    "class Class2:\n",
    "    def m(self):\n",
    "        print(\" I am class 2nd\")\n",
    "\n",
    "class Class3(Class1):\n",
    "    def m(self):\n",
    "        print('I am class 3')\n",
    "        \n",
    "class Class4(Class2,Class3):\n",
    "    def m(self):\n",
    "        print(\" I am class 4nd\")\n",
    "\n",
    "\n",
    "obj=Class4()\n",
    "obj.m()\n",
    "\n",
    "Class2.m(obj)\n",
    "Class3.m(obj)\n",
    "Class1.m(obj)\n",
    "        \n",
    "        "
   ]
  },
  {
   "cell_type": "code",
   "execution_count": 6,
   "id": "400684ed",
   "metadata": {},
   "outputs": [
    {
     "name": "stdout",
     "output_type": "stream",
     "text": [
      "In Class4\n",
      "In Class2\n",
      "In Class3\n",
      "In Class1\n"
     ]
    }
   ],
   "source": [
    "# using super method\n",
    "\n",
    "# Python program to demonstrate\n",
    "# super()\n",
    " \n",
    "class Class1:\n",
    "    def m(self):\n",
    "        print(\"In Class1\")\n",
    " \n",
    "class Class2(Class1):\n",
    "    def m(self):\n",
    "        print(\"In Class2\")\n",
    "        super().m()\n",
    " \n",
    "class Class3(Class1):\n",
    "    def m(self):\n",
    "        print(\"In Class3\")\n",
    "        super().m()\n",
    " \n",
    "class Class4(Class2, Class3):\n",
    "    def m(self):\n",
    "        print(\"In Class4\")  \n",
    "        super().m()\n",
    "      \n",
    "obj = Class4()\n",
    "obj.m()"
   ]
  },
  {
   "cell_type": "code",
   "execution_count": null,
   "id": "a23bc6c2",
   "metadata": {},
   "outputs": [],
   "source": []
  }
 ],
 "metadata": {
  "kernelspec": {
   "display_name": "Python 3 (ipykernel)",
   "language": "python",
   "name": "python3"
  },
  "language_info": {
   "codemirror_mode": {
    "name": "ipython",
    "version": 3
   },
   "file_extension": ".py",
   "mimetype": "text/x-python",
   "name": "python",
   "nbconvert_exporter": "python",
   "pygments_lexer": "ipython3",
   "version": "3.11.4"
  }
 },
 "nbformat": 4,
 "nbformat_minor": 5
}
