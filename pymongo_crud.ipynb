{
 "cells": [
  {
   "cell_type": "code",
   "execution_count": 13,
   "id": "ebce7a7d",
   "metadata": {},
   "outputs": [
    {
     "name": "stdout",
     "output_type": "stream",
     "text": [
      "['mycollection']\n"
     ]
    }
   ],
   "source": [
    "import pymongo\n",
    "myclient = pymongo.MongoClient(\"mongodb://localhost:27017/\")\n",
    "\n",
    "mydb=myclient['dummy']\n",
    "\n",
    "print(mydb.list_collection_names())"
   ]
  },
  {
   "cell_type": "code",
   "execution_count": 14,
   "id": "809502da",
   "metadata": {},
   "outputs": [
    {
     "name": "stdout",
     "output_type": "stream",
     "text": [
      "Collection(Database(MongoClient(host=['localhost:27017'], document_class=dict, tz_aware=False, connect=True), 'dummy'), 'mycollection')\n"
     ]
    }
   ],
   "source": [
    "mycol = mydb[\"mycollection\"]\n",
    "print(mycol)"
   ]
  },
  {
   "cell_type": "code",
   "execution_count": 9,
   "id": "89340852",
   "metadata": {},
   "outputs": [
    {
     "name": "stdout",
     "output_type": "stream",
     "text": [
      "['admin', 'config', 'dummy', 'local', 'test']\n"
     ]
    }
   ],
   "source": [
    "print(myclient.list_database_names())"
   ]
  },
  {
   "cell_type": "code",
   "execution_count": 15,
   "id": "ec137125",
   "metadata": {},
   "outputs": [
    {
     "name": "stdout",
     "output_type": "stream",
     "text": [
      "{'_id': '64ba13bff69161304e584bbd', 'index': 0, 'guid': '5a5938a0-2787-4126-9723-db050bb210cf', 'isActive': False, 'balance': '$2,722.44', 'picture': 'http://placehold.it/32x32', 'age': 22, 'eyeColor': 'blue', 'name': 'Bird Giles', 'gender': 'male', 'company': 'NITRACYR', 'email': 'birdgiles@nitracyr.com', 'phone': '+1 (820) 512-3625', 'address': '434 Rochester Avenue, Gorham, Montana, 2733', 'about': 'Veniam dolor consectetur tempor amet. Deserunt reprehenderit veniam sint sunt quis exercitation ut eiusmod. Consequat reprehenderit cupidatat velit aliqua id eiusmod exercitation adipisicing elit eiusmod. Aute magna adipisicing esse nulla duis.\\r\\n', 'registered': '2022-04-23T10:03:47 -06:-30', 'latitude': -14.176914, 'longitude': -45.460014, 'tags': ['reprehenderit', 'sunt', 'voluptate', 'ea', 'anim', 'veniam', 'eiusmod'], 'friends': [{'id': 0, 'name': 'Suzanne Franks'}, {'id': 1, 'name': 'Massey Rocha'}, {'id': 2, 'name': 'Lakeisha Flynn'}], 'greeting': 'Hello, Bird Giles! You have 2 unread messages.', 'favoriteFruit': 'strawberry'}\n",
      "{'_id': '64ba13bf510a688f5f98a042', 'index': 1, 'guid': '4c71f624-0301-4556-b184-e94584ff99e5', 'isActive': False, 'balance': '$2,275.69', 'picture': 'http://placehold.it/32x32', 'age': 28, 'eyeColor': 'blue', 'name': 'Lambert Sims', 'gender': 'male', 'company': 'ZILODYNE', 'email': 'lambertsims@zilodyne.com', 'phone': '+1 (896) 555-3982', 'address': '197 Stuart Street, Bangor, Palau, 2946', 'about': 'Ex dolore deserunt proident ullamco dolore culpa quis sint. Cupidatat ut dolore et occaecat ad exercitation id proident elit nisi. Irure pariatur nulla labore cupidatat pariatur tempor deserunt mollit nisi eu proident. Sint eu laborum consequat magna sit eu officia non dolore ad. Laboris ut velit excepteur nostrud nulla labore. Quis consequat irure irure amet amet. Velit minim sint deserunt nisi consequat mollit esse ex.\\r\\n', 'registered': '2017-10-26T11:40:23 -06:-30', 'latitude': 25.721669, 'longitude': -56.585445, 'tags': ['voluptate', 'officia', 'excepteur', 'cillum', 'eiusmod', 'ad', 'amet'], 'friends': [{'id': 0, 'name': 'Cecelia Reid'}, {'id': 1, 'name': 'Hess Sanchez'}, {'id': 2, 'name': 'Miranda Crosby'}], 'greeting': 'Hello, Lambert Sims! You have 6 unread messages.', 'favoriteFruit': 'strawberry'}\n",
      "{'_id': '64ba13bf78a2a2e4271698d6', 'index': 2, 'guid': '0aa134f0-5d3b-49ca-8748-de47fccc88f5', 'isActive': True, 'balance': '$3,432.89', 'picture': 'http://placehold.it/32x32', 'age': 31, 'eyeColor': 'blue', 'name': 'Phyllis Acosta', 'gender': 'female', 'company': 'EMPIRICA', 'email': 'phyllisacosta@empirica.com', 'phone': '+1 (979) 403-3891', 'address': '325 Commercial Street, Devon, Connecticut, 5257', 'about': 'Deserunt ipsum dolor voluptate ut reprehenderit deserunt occaecat tempor anim cupidatat. Deserunt esse elit reprehenderit voluptate aliquip ullamco velit tempor. Est laboris deserunt magna dolor. Non mollit dolore occaecat laborum non qui officia incididunt. Laborum exercitation et exercitation culpa nostrud laborum laboris.\\r\\n', 'registered': '2020-03-03T11:42:04 -06:-30', 'latitude': -81.31569, 'longitude': 94.088134, 'tags': ['proident', 'magna', 'occaecat', 'pariatur', 'duis', 'veniam', 'culpa'], 'friends': [{'id': 0, 'name': 'Bettie Terry'}, {'id': 1, 'name': 'Helen Joyce'}, {'id': 2, 'name': 'Joann Suarez'}], 'greeting': 'Hello, Phyllis Acosta! You have 2 unread messages.', 'favoriteFruit': 'apple'}\n",
      "{'_id': '64ba13bf12742a3fd27bac02', 'index': 3, 'guid': '5e0fa6ad-f458-4066-8697-aea1d2cda5af', 'isActive': False, 'balance': '$3,658.01', 'picture': 'http://placehold.it/32x32', 'age': 31, 'eyeColor': 'green', 'name': 'Hart Bailey', 'gender': 'male', 'company': 'ZORROMOP', 'email': 'hartbailey@zorromop.com', 'phone': '+1 (861) 564-2454', 'address': '548 Atlantic Avenue, Denio, Arizona, 5335', 'about': 'Mollit amet velit consectetur amet est enim ullamco ipsum Lorem voluptate et est ea. Deserunt consectetur quis non reprehenderit eiusmod. Do nostrud officia nostrud tempor ex aliquip reprehenderit ex. Aute proident magna eiusmod tempor deserunt sunt cupidatat dolor non laborum. Sint laboris ullamco Lorem tempor dolor nostrud do eiusmod.\\r\\n', 'registered': '2017-07-21T06:57:13 -06:-30', 'latitude': 87.566614, 'longitude': 51.179124, 'tags': ['nisi', 'excepteur', 'tempor', 'cupidatat', 'culpa', 'eu', 'eu'], 'friends': [{'id': 0, 'name': 'Contreras Ratliff'}, {'id': 1, 'name': 'Mcconnell Boyer'}, {'id': 2, 'name': 'Lucille Rush'}], 'greeting': 'Hello, Hart Bailey! You have 2 unread messages.', 'favoriteFruit': 'banana'}\n",
      "{'_id': '64ba13bfad70c2c6ddc08b1d', 'index': 4, 'guid': '7accb998-6639-4258-85e5-897bbaa57a62', 'isActive': True, 'balance': '$2,767.38', 'picture': 'http://placehold.it/32x32', 'age': 37, 'eyeColor': 'brown', 'name': 'Pittman Patrick', 'gender': 'male', 'company': 'DECRATEX', 'email': 'pittmanpatrick@decratex.com', 'phone': '+1 (980) 452-3908', 'address': '816 Bassett Avenue, Hanover, Illinois, 226', 'about': 'Nisi dolor enim cillum sunt cupidatat sint anim nostrud exercitation ipsum enim. Sunt quis dolore veniam nostrud dolor non ex mollit aute officia eiusmod aliquip. Exercitation mollit nulla laborum sit ex duis est do.\\r\\n', 'registered': '2015-01-15T05:18:34 -06:-30', 'latitude': 38.514302, 'longitude': 46.694471, 'tags': ['deserunt', 'ullamco', 'incididunt', 'in', 'et', 'velit', 'est'], 'friends': [{'id': 0, 'name': 'Rosalie Swanson'}, {'id': 1, 'name': 'Simpson Russo'}, {'id': 2, 'name': 'Claire Alston'}], 'greeting': 'Hello, Pittman Patrick! You have 5 unread messages.', 'favoriteFruit': 'apple'}\n"
     ]
    }
   ],
   "source": [
    "for x in mycol.find():\n",
    "    print(x)"
   ]
  },
  {
   "cell_type": "code",
   "execution_count": null,
   "id": "ff6501f2",
   "metadata": {},
   "outputs": [],
   "source": []
  }
 ],
 "metadata": {
  "kernelspec": {
   "display_name": "Python 3 (ipykernel)",
   "language": "python",
   "name": "python3"
  },
  "language_info": {
   "codemirror_mode": {
    "name": "ipython",
    "version": 3
   },
   "file_extension": ".py",
   "mimetype": "text/x-python",
   "name": "python",
   "nbconvert_exporter": "python",
   "pygments_lexer": "ipython3",
   "version": "3.11.4"
  }
 },
 "nbformat": 4,
 "nbformat_minor": 5
}
