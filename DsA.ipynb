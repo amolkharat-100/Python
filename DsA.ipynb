{
 "cells": [
  {
   "cell_type": "code",
   "execution_count": 11,
   "id": "20bec059",
   "metadata": {},
   "outputs": [
    {
     "name": "stdout",
     "output_type": "stream",
     "text": [
      "<class 'list'>\n",
      "arjun using for loop\n",
      "anand using for loop\n",
      "avinash using for loop\n",
      "akash using for loop\n",
      "ajay using for loop\n",
      "amar using for loop\n",
      "anant using for loop\n",
      "arjun using for loop\n",
      "arjun through indexing\n",
      "anand through indexing\n",
      "avinash through indexing\n",
      "akash through indexing\n",
      "ajay through indexing\n",
      "amar through indexing\n",
      "anant through indexing\n",
      "arjun through indexing\n"
     ]
    }
   ],
   "source": [
    "# Python Data Structures and Algorithms\n",
    "#1.list \n",
    "mylist=[\"arjun\",\"anand\",\"avinash\",\"akash\",\"ajay\",\"amar\",\"anant\",\"arjun\"]\n",
    "len(mylist)\n",
    "# type\n",
    "print(type(mylist))\n",
    "# get items using for loop\n",
    "for i in mylist:\n",
    "    print(i,\"using for loop\")\n",
    "    \n",
    "# indexing through \n",
    "for j in range(len(mylist)):\n",
    "    print(mylist[j],\"through indexing\")\n",
    "    "
   ]
  },
  {
   "cell_type": "code",
   "execution_count": null,
   "id": "82f1c859",
   "metadata": {},
   "outputs": [],
   "source": []
  }
 ],
 "metadata": {
  "kernelspec": {
   "display_name": "Python 3 (ipykernel)",
   "language": "python",
   "name": "python3"
  },
  "language_info": {
   "codemirror_mode": {
    "name": "ipython",
    "version": 3
   },
   "file_extension": ".py",
   "mimetype": "text/x-python",
   "name": "python",
   "nbconvert_exporter": "python",
   "pygments_lexer": "ipython3",
   "version": "3.11.4"
  }
 },
 "nbformat": 4,
 "nbformat_minor": 5
}
